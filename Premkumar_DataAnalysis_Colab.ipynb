{
 "cells": [
  {
   "cell_type": "markdown",
   "id": "6640ab85",
   "metadata": {},
   "source": [
    "# Restaurant Data Analysis — Colab Notebook\n",
    "\n",
    "This Colab-ready notebook is prepared for the Cognifyz internship project. It includes data loading from Google Drive, data cleaning, EDA (Level 1, 2, 3 tasks), visualizations, and exporting results back to Google Drive.\n",
    "\n",
    "**How to use:**\n",
    "1. Upload `Dataset.csv` to your Google Drive folder `MyDrive/Cognifyz_Project/`.\n",
    "2. Open this notebook in Google Colab (Upload the .ipynb or open from Drive).\n",
    "3. Run cells in order. When prompted, authorize Google Drive access.\n",
    "\n",
    "---"
   ]
  },
  {
   "cell_type": "code",
   "execution_count": null,
   "id": "4f8697ab",
   "metadata": {},
   "outputs": [],
   "source": [
    "# Mount Google Drive (Run this in Colab)\n",
    "from google.colab import drive\n",
    "drive.mount('/content/drive')\n",
    "\n",
    "# Set path to project folder on your Drive\n",
    "project_path = '/content/drive/MyDrive/Cognifyz_Project'\n",
    "print('Project path set to:', project_path)\n"
   ]
  },
  {
   "cell_type": "code",
   "execution_count": null,
   "id": "db75294f",
   "metadata": {},
   "outputs": [],
   "source": [
    "import pandas as pd\n",
    "import numpy as np\n",
    "import matplotlib.pyplot as plt\n",
    "from collections import Counter\n",
    "from itertools import combinations\n",
    "\n",
    "pd.set_option('display.max_columns', 50)\n",
    "plt.rcParams['figure.figsize'] = (8,5)\n"
   ]
  },
  {
   "cell_type": "code",
   "execution_count": null,
   "id": "550168e7",
   "metadata": {},
   "outputs": [],
   "source": [
    "# Load dataset from Drive\n",
    "file_path = project_path + '/Dataset.csv'\n",
    "try:\n",
    "    df = pd.read_csv(file_path)\n",
    "    print('Loaded dataset with shape:', df.shape)\n",
    "except Exception as e:\n",
    "    print('Error loading file. Make sure Dataset.csv is in', project_path)\n",
    "    raise e\n"
   ]
  },
  {
   "cell_type": "code",
   "execution_count": null,
   "id": "5d41488b",
   "metadata": {},
   "outputs": [],
   "source": [
    "# Quick inspection\n",
    "print(df.head())\n",
    "print('\\nMissing values per column:')\n",
    "print(df.isnull().sum())\n"
   ]
  },
  {
   "cell_type": "markdown",
   "id": "ec05e76b",
   "metadata": {},
   "source": [
    "## Data Cleaning\n",
    "- Drop rows with missing `Cuisines` (if any).\n",
    "- Convert yes/no columns to consistent format.\n",
    "- Create helper columns where useful."
   ]
  },
  {
   "cell_type": "code",
   "execution_count": null,
   "id": "d7ab4071",
   "metadata": {},
   "outputs": [],
   "source": [
    "# Data cleaning\n",
    "initial_rows = df.shape[0]\n",
    "df = df.dropna(subset=['Cuisines']).copy()\n",
    "print(f'Dropped {initial_rows - df.shape[0]} rows with missing cuisines. Remaining rows: {df.shape[0]}')\n",
    "\n",
    "# Standardize Yes/No\n",
    "for col in ['Has Online delivery','Has Table booking','Is delivering now']:\n",
    "    if col in df.columns:\n",
    "        df[col] = df[col].str.strip().replace({'YES':'Yes','yes':'Yes','No':'No','NO':'No'})\n",
    "\n",
    "# Ensure Price range is integer\n",
    "if df['Price range'].dtype != int:\n",
    "    df['Price range'] = df['Price range'].astype(int)\n",
    "\n",
    "# Save a cleaned copy\n",
    "cleaned_path = project_path + '/Cleaned_Dataset.csv'\n",
    "df.to_csv(cleaned_path, index=False)\n",
    "print('Cleaned dataset saved to', cleaned_path)\n"
   ]
  },
  {
   "cell_type": "markdown",
   "id": "1b7a3533",
   "metadata": {},
   "source": [
    "## Level 1 — Task 1: Top Cuisines\n",
    "Count top cuisines and show percentages."
   ]
  },
  {
   "cell_type": "code",
   "execution_count": null,
   "id": "6ec6c92e",
   "metadata": {},
   "outputs": [],
   "source": [
    "# Top cuisines\n",
    "cuisine_list = df['Cuisines'].str.split(', ').sum()\n",
    "cuisine_counts = Counter(cuisine_list)\n",
    "top3 = cuisine_counts.most_common(3)\n",
    "print('Top 3 cuisines:')\n",
    "for c, cnt in top3:\n",
    "    print(f'{c}: {cnt} ({cnt/len(df)*100:.2f}%)')\n",
    "\n",
    "# Create DataFrame\n",
    "top_cuisine_df = pd.DataFrame(cuisine_counts.most_common(), columns=['Cuisine','Count'])\n",
    "top_cuisine_df.head(10)\n"
   ]
  },
  {
   "cell_type": "markdown",
   "id": "f8c9b89b",
   "metadata": {},
   "source": [
    "## Level 1 — Task 2: City Analysis\n",
    "Restaurant count per city and average rating."
   ]
  },
  {
   "cell_type": "code",
   "execution_count": null,
   "id": "92425277",
   "metadata": {},
   "outputs": [],
   "source": [
    "# City counts and average rating\n",
    "city_counts = df['City'].value_counts()\n",
    "city_avg_rating = df.groupby('City')['Aggregate rating'].mean().sort_values(ascending=False)\n",
    "print('Top 5 cities by restaurant count:')\n",
    "print(city_counts.head())\n",
    "print('\\nTop 10 cities by average rating:')\n",
    "print(city_avg_rating.head(10))\n"
   ]
  },
  {
   "cell_type": "markdown",
   "id": "6e21b9c2",
   "metadata": {},
   "source": [
    "## Level 1 — Task 3: Price Range Distribution\n",
    "Visualize price range distribution and percentages."
   ]
  },
  {
   "cell_type": "code",
   "execution_count": null,
   "id": "4e38c153",
   "metadata": {},
   "outputs": [],
   "source": [
    "# Price range distribution\n",
    "price_counts = df['Price range'].value_counts().sort_index()\n",
    "price_pct = (price_counts/len(df))*100\n",
    "print(price_counts)\n",
    "print('\\nPercentage:')\n",
    "print(price_pct)\n",
    "\n",
    "plt.bar(price_counts.index, price_counts.values)\n",
    "plt.xlabel('Price range')\n",
    "plt.ylabel('Number of restaurants')\n",
    "plt.title('Price Range Distribution')\n",
    "plt.show()\n"
   ]
  },
  {
   "cell_type": "markdown",
   "id": "e32d2a45",
   "metadata": {},
   "source": [
    "## Level 1 — Task 4: Online Delivery\n",
    "Compare restaurants with and without online delivery."
   ]
  },
  {
   "cell_type": "code",
   "execution_count": null,
   "id": "dd16aa4f",
   "metadata": {},
   "outputs": [],
   "source": [
    "# Online delivery stats\n",
    "delivery_counts = df['Has Online delivery'].value_counts()\n",
    "delivery_pct = (delivery_counts/len(df))*100\n",
    "delivery_avg = df.groupby('Has Online delivery')['Aggregate rating'].mean()\n",
    "print(delivery_counts)\n",
    "print('\\nPercentages:')\n",
    "print(delivery_pct)\n",
    "print('\\nAverage rating by online delivery:')\n",
    "print(delivery_avg)\n",
    "\n",
    "plt.pie(delivery_counts.values, labels=delivery_counts.index, autopct='%1.1f%%')\n",
    "plt.title('Online Delivery Availability')\n",
    "plt.show()\n"
   ]
  },
  {
   "cell_type": "markdown",
   "id": "691f0266",
   "metadata": {},
   "source": [
    "## Level 2 — Task 1: Cuisine Combinations\n",
    "Analyze most common cuisine pairs."
   ]
  },
  {
   "cell_type": "code",
   "execution_count": null,
   "id": "76f46ceb",
   "metadata": {},
   "outputs": [],
   "source": [
    "# Cuisine combinations (pairs)\n",
    "combo_list = []\n",
    "for cuisines in df['Cuisines'].dropna():\n",
    "    parts = cuisines.split(', ')\n",
    "    if len(parts) > 1:\n",
    "        combo_list.extend(combinations(parts, 2))\n",
    "combo_counts = Counter(combo_list)\n",
    "combo_top10 = combo_counts.most_common(10)\n",
    "combo_df = pd.DataFrame([(f'{a} + {b}', c) for (a,b),c in combo_top10], columns=['Combination','Count'])\n",
    "combo_df\n"
   ]
  },
  {
   "cell_type": "markdown",
   "id": "5bf9c926",
   "metadata": {},
   "source": [
    "## Level 2 — Task 2: Geographic Analysis\n",
    "Average lat/long per city and mapping note."
   ]
  },
  {
   "cell_type": "code",
   "execution_count": null,
   "id": "5816ed1b",
   "metadata": {},
   "outputs": [],
   "source": [
    "# Geographic analysis - mean coordinates per city\n",
    "geo_df = df.groupby('City')[['Latitude','Longitude']].mean().reset_index()\n",
    "geo_df.head()\n",
    "\n",
    "# For mapping: use folium or export lat/long and use Google My Maps, Power BI, or Tableau for interactive plots.\n"
   ]
  },
  {
   "cell_type": "markdown",
   "id": "a45b64b6",
   "metadata": {},
   "source": [
    "## Level 2 — Task 3: Restaurant Chains\n",
    "Identify restaurants appearing multiple times (possible chains)."
   ]
  },
  {
   "cell_type": "code",
   "execution_count": null,
   "id": "bee2f38e",
   "metadata": {},
   "outputs": [],
   "source": [
    "# Restaurant chains by name frequency\n",
    "chain_counts = df['Restaurant Name'].value_counts()\n",
    "chains = chain_counts[chain_counts > 1].reset_index()\n",
    "chains.columns = ['Restaurant Name','Branch Count']\n",
    "chains.head(30)\n"
   ]
  },
  {
   "cell_type": "markdown",
   "id": "f15b1242",
   "metadata": {},
   "source": [
    "## Level 2 — Task 4: Reviews\n",
    "Summary of rating text categories."
   ]
  },
  {
   "cell_type": "code",
   "execution_count": null,
   "id": "8eacbe8b",
   "metadata": {},
   "outputs": [],
   "source": [
    "# Rating text distribution\n",
    "rating_text_counts = df['Rating text'].value_counts()\n",
    "rating_text_counts\n"
   ]
  },
  {
   "cell_type": "markdown",
   "id": "23486eb9",
   "metadata": {},
   "source": [
    "## Level 3 — Task 1: Votes Analysis\n",
    "Max/min votes and correlation with rating."
   ]
  },
  {
   "cell_type": "code",
   "execution_count": null,
   "id": "6edc5701",
   "metadata": {},
   "outputs": [],
   "source": [
    "# Votes analysis\n",
    "max_votes_idx = df['Votes'].idxmax()\n",
    "min_votes_idx = df['Votes'].idxmin()\n",
    "max_votes_restaurant = df.loc[max_votes_idx, ['Restaurant Name','Votes','Aggregate rating']]\n",
    "min_votes_restaurant = df.loc[min_votes_idx, ['Restaurant Name','Votes','Aggregate rating']]\n",
    "votes_corr = df['Votes'].corr(df['Aggregate rating'])\n",
    "print('Max votes restaurant:')\n",
    "print(max_votes_restaurant)\n",
    "print('\\nMin votes restaurant:')\n",
    "print(min_votes_restaurant)\n",
    "print(f\"\\nCorrelation between Votes and Rating: {votes_corr:.4f}\")\n"
   ]
  },
  {
   "cell_type": "markdown",
   "id": "1db36100",
   "metadata": {},
   "source": [
    "## Level 3 — Task 2: Price vs Online Delivery & Table Booking\n",
    "Analyze service availability by price range."
   ]
  },
  {
   "cell_type": "code",
   "execution_count": null,
   "id": "a5167dbd",
   "metadata": {},
   "outputs": [],
   "source": [
    "# Price vs services\n",
    "price_service = df.groupby('Price range')[['Has Online delivery','Has Table booking']].agg(lambda x: (x=='Yes').sum())\n",
    "price_service['Total'] = df.groupby('Price range').size()\n",
    "price_service['OnlineDelivery_pct'] = price_service['Has Online delivery'] / price_service['Total'] * 100\n",
    "price_service['TableBooking_pct'] = price_service['Has Table booking'] / price_service['Total'] * 100\n",
    "price_service\n"
   ]
  },
  {
   "cell_type": "markdown",
   "id": "913dbd62",
   "metadata": {},
   "source": [
    "## Export results\n",
    "Save key outputs back to your Google Drive folder for submission."
   ]
  },
  {
   "cell_type": "code",
   "execution_count": null,
   "id": "45c4b858",
   "metadata": {},
   "outputs": [],
   "source": [
    "# Save outputs to Drive\n",
    "output_excel = project_path + '/Premkumar_DataAnalysis_Final.xlsx'\n",
    "with pd.ExcelWriter(output_excel, engine='xlsxwriter') as writer:\n",
    "    top_cuisine_df.to_excel(writer, sheet_name='Top Cuisines', index=False)\n",
    "    city_counts.reset_index().to_excel(writer, sheet_name='City Counts', index=False)\n",
    "    city_avg_rating.reset_index().to_excel(writer, sheet_name='City Avg Rating', index=False)\n",
    "    price_counts.reset_index().to_excel(writer, sheet_name='Price Range', index=False)\n",
    "    delivery_counts.reset_index().to_excel(writer, sheet_name='Online Delivery', index=False)\n",
    "    combo_df.to_excel(writer, sheet_name='Cuisine Combos', index=False)\n",
    "    geo_df.to_excel(writer, sheet_name='Geo Analysis', index=False)\n",
    "    chains.to_excel(writer, sheet_name='Chains', index=False)\n",
    "    rating_text_counts.reset_index().to_excel(writer, sheet_name='Rating Text', index=False)\n",
    "    pd.DataFrame([{'MaxVotesRestaurant': max_votes_restaurant['Restaurant Name'], 'MaxVotes': int(max_votes_restaurant['Votes']), 'MinVotesRestaurant': min_votes_restaurant['Restaurant Name'], 'MinVotes': int(min_votes_restaurant['Votes']), 'VotesRatingCorr': votes_corr}]).to_excel(writer, sheet_name='Votes Summary', index=False)\n",
    "    price_service.reset_index().to_excel(writer, sheet_name='Price vs Services', index=False)\n",
    "\n",
    "print('Saved Excel to', output_excel)\n"
   ]
  },
  {
   "cell_type": "markdown",
   "id": "cf515d2f",
   "metadata": {},
   "source": [
    "## Final Notes\n",
    "- After running, download the Excel and README, ZIP them with your notebook, and upload via the Cognifyz submission form.\n",
    "- To share the Colab notebook: File -> Save a copy in Drive, then Share -> Anyone with the link (Viewer)."
   ]
  }
 ],
 "metadata": {},
 "nbformat": 4,
 "nbformat_minor": 5
}
